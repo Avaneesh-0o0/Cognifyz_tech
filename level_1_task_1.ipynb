{
 "cells": [
  {
   "cell_type": "code",
   "execution_count": null,
   "metadata": {},
   "outputs": [],
   "source": [
    "import pandas as pd \n",
    "\n",
    "import matplotlib.pyplot as plt\n",
    "import seaborn as sns"
   ]
  },
  {
   "cell_type": "code",
   "execution_count": 19,
   "metadata": {},
   "outputs": [
    {
     "name": "stdout",
     "output_type": "stream",
     "text": [
      "Number of rows and columns in the dataset: (9551, 21)\n",
      "<class 'pandas.core.frame.DataFrame'>\n",
      "RangeIndex: 9551 entries, 0 to 9550\n",
      "Data columns (total 21 columns):\n",
      " #   Column                Non-Null Count  Dtype  \n",
      "---  ------                --------------  -----  \n",
      " 0   Restaurant ID         9551 non-null   int64  \n",
      " 1   Restaurant Name       9551 non-null   object \n",
      " 2   Country Code          9551 non-null   int64  \n",
      " 3   City                  9551 non-null   object \n",
      " 4   Address               9551 non-null   object \n",
      " 5   Locality              9551 non-null   object \n",
      " 6   Locality Verbose      9551 non-null   object \n",
      " 7   Longitude             9551 non-null   float64\n",
      " 8   Latitude              9551 non-null   float64\n",
      " 9   Cuisines              9542 non-null   object \n",
      " 10  Average Cost for two  9551 non-null   int64  \n",
      " 11  Currency              9551 non-null   object \n",
      " 12  Has Table booking     9551 non-null   object \n",
      " 13  Has Online delivery   9551 non-null   object \n",
      " 14  Is delivering now     9551 non-null   object \n",
      " 15  Switch to order menu  9551 non-null   object \n",
      " 16  Price range           9551 non-null   int64  \n",
      " 17  Aggregate rating      9551 non-null   float64\n",
      " 18  Rating color          9551 non-null   object \n",
      " 19  Rating text           9551 non-null   object \n",
      " 20  Votes                 9551 non-null   int64  \n",
      "dtypes: float64(3), int64(5), object(13)\n",
      "memory usage: 1.5+ MB\n",
      "\n",
      " None\n"
     ]
    }
   ],
   "source": [
    "#Dataset load\n",
    "df=pd.read_csv(\"Dataset .csv\")\n",
    "\n",
    "#Explore the dataset\n",
    "#identify the number of rows and columns.\n",
    "print(\"Number of rows and columns in the dataset:\",df.shape)\n",
    "print (\"\\n\",df.info())"
   ]
  },
  {
   "cell_type": "code",
   "execution_count": 20,
   "metadata": {},
   "outputs": [
    {
     "name": "stdout",
     "output_type": "stream",
     "text": [
      "\n",
      "Missing values in the dataset: Restaurant ID           0\n",
      "Restaurant Name         0\n",
      "Country Code            0\n",
      "City                    0\n",
      "Address                 0\n",
      "Locality                0\n",
      "Locality Verbose        0\n",
      "Longitude               0\n",
      "Latitude                0\n",
      "Cuisines                9\n",
      "Average Cost for two    0\n",
      "Currency                0\n",
      "Has Table booking       0\n",
      "Has Online delivery     0\n",
      "Is delivering now       0\n",
      "Switch to order menu    0\n",
      "Price range             0\n",
      "Aggregate rating        0\n",
      "Rating color            0\n",
      "Rating text             0\n",
      "Votes                   0\n",
      "dtype: int64\n"
     ]
    }
   ],
   "source": [
    "#Check for missing values\n",
    "print(\"\\nMissing values in the dataset:\",df.isnull().sum())"
   ]
  },
  {
   "cell_type": "code",
   "execution_count": 21,
   "metadata": {},
   "outputs": [
    {
     "name": "stdout",
     "output_type": "stream",
     "text": [
      "\n",
      "Missing values in the dataset: Restaurant ID           0\n",
      "Restaurant Name         0\n",
      "Country Code            0\n",
      "City                    0\n",
      "Address                 0\n",
      "Locality                0\n",
      "Locality Verbose        0\n",
      "Longitude               0\n",
      "Latitude                0\n",
      "Cuisines                0\n",
      "Average Cost for two    0\n",
      "Currency                0\n",
      "Has Table booking       0\n",
      "Has Online delivery     0\n",
      "Is delivering now       0\n",
      "Switch to order menu    0\n",
      "Price range             0\n",
      "Aggregate rating        0\n",
      "Rating color            0\n",
      "Rating text             0\n",
      "Votes                   0\n",
      "dtype: int64\n"
     ]
    },
    {
     "name": "stderr",
     "output_type": "stream",
     "text": [
      "C:\\Users\\Avaneesh Malviya\\AppData\\Local\\Temp\\ipykernel_11548\\3343678813.py:3: FutureWarning: A value is trying to be set on a copy of a DataFrame or Series through chained assignment using an inplace method.\n",
      "The behavior will change in pandas 3.0. This inplace method will never work because the intermediate object on which we are setting values always behaves as a copy.\n",
      "\n",
      "For example, when doing 'df[col].method(value, inplace=True)', try using 'df.method({col: value}, inplace=True)' or df[col] = df[col].method(value) instead, to perform the operation inplace on the original object.\n",
      "\n",
      "\n",
      "  df['Cuisines'].fillna(\"Unknown\", inplace=True)\n"
     ]
    }
   ],
   "source": [
    "#handle missing values\n",
    "\n",
    "df['Cuisines'].fillna(\"Unknown\", inplace=True)\n",
    "\n",
    "print(\"\\nMissing values in the dataset:\",df.isnull().sum())\n"
   ]
  },
  {
   "cell_type": "code",
   "execution_count": 22,
   "metadata": {},
   "outputs": [
    {
     "name": "stdout",
     "output_type": "stream",
     "text": [
      "Restaurant ID             int64\n",
      "Restaurant Name          object\n",
      "Country Code              int64\n",
      "City                     object\n",
      "Address                  object\n",
      "Locality                 object\n",
      "Locality Verbose         object\n",
      "Longitude               float64\n",
      "Latitude                float64\n",
      "Cuisines                 object\n",
      "Average Cost for two      int64\n",
      "Currency                 object\n",
      "Has Table booking        object\n",
      "Has Online delivery      object\n",
      "Is delivering now        object\n",
      "Switch to order menu     object\n",
      "Price range               int64\n",
      "Aggregate rating        float64\n",
      "Rating color             object\n",
      "Rating text              object\n",
      "Votes                     int64\n",
      "dtype: object\n"
     ]
    }
   ],
   "source": [
    "#data type conversion if necessary\n",
    "\n",
    "print(df.dtypes)"
   ]
  },
  {
   "cell_type": "code",
   "execution_count": 24,
   "metadata": {},
   "outputs": [
    {
     "name": "stdout",
     "output_type": "stream",
     "text": [
      "\n",
      " Data Type Conversion Completed\n",
      "Restaurant ID              int64\n",
      "Restaurant Name           object\n",
      "Country Code            category\n",
      "City                    category\n",
      "Address                   object\n",
      "Locality                category\n",
      "Locality Verbose        category\n",
      "Longitude                float64\n",
      "Latitude                 float64\n",
      "Cuisines                category\n",
      "Average Cost for two       int64\n",
      "Currency                category\n",
      "Has Table booking          Int64\n",
      "Has Online delivery        Int64\n",
      "Is delivering now          Int64\n",
      "Switch to order menu       Int64\n",
      "Price range                int64\n",
      "Aggregate rating         float64\n",
      "Rating color            category\n",
      "Rating text             category\n",
      "Votes                      int64\n",
      "dtype: object\n"
     ]
    }
   ],
   "source": [
    "#converion 1 for yes and 0 for no for \n",
    "# Columns: Has Table booking, Has Online delivery, Is delivering now, Switch to order menu\n",
    "# machine learning model can work easily\n",
    "\n",
    "# Convert Boolean Columns\n",
    "bool_column = ['Has Table booking', 'Has Online delivery', 'Is delivering now', 'Switch to order menu']\n",
    "for col in bool_column:\n",
    "    df[col] = df[col].map({'Yes': 1, 'No': 0}).astype('Int64')\n",
    "\n",
    "# Convert Category Columns\n",
    "# memory optimization\n",
    "category_column = ['City', 'Locality', 'Locality Verbose', 'Cuisines', 'Currency', 'Rating color', 'Rating text','Country Code']\n",
    "for col in category_column:\n",
    "    df[col] = df[col].astype('category')\n",
    "\n",
    "print(\"\\n Data Type Conversion Completed\")\n",
    "print(df.dtypes) \n"
   ]
  },
  {
   "cell_type": "code",
   "execution_count": 25,
   "metadata": {},
   "outputs": [
    {
     "name": "stdout",
     "output_type": "stream",
     "text": [
      "Aggregate rating\n",
      "0.0    2148\n",
      "1.8       1\n",
      "1.9       2\n",
      "2.0       7\n",
      "2.1      15\n",
      "2.2      27\n",
      "2.3      47\n",
      "2.4      87\n",
      "2.5     110\n",
      "2.6     191\n",
      "2.7     250\n",
      "2.8     315\n",
      "2.9     381\n",
      "3.0     468\n",
      "3.1     519\n",
      "3.2     522\n",
      "3.3     483\n",
      "3.4     498\n",
      "3.5     480\n",
      "3.6     458\n",
      "3.7     427\n",
      "3.8     400\n",
      "3.9     335\n",
      "4.0     266\n",
      "4.1     274\n",
      "4.2     221\n",
      "4.3     174\n",
      "4.4     144\n",
      "4.5      95\n",
      "4.6      78\n",
      "4.7      42\n",
      "4.8      25\n",
      "4.9      61\n",
      "Name: count, dtype: int64\n"
     ]
    }
   ],
   "source": [
    "# Analyze the distribution of the target variable (\"Aggregate rating\")\n",
    "\n",
    "\n",
    "#rating value count \n",
    "print(df[\"Aggregate rating\"].value_counts().sort_index())\n"
   ]
  },
  {
   "cell_type": "code",
   "execution_count": 26,
   "metadata": {},
   "outputs": [
    {
     "data": {
      "image/png": "[encoded data removed]",
      "text/plain": [
       "<Figure size 1000x500 with 1 Axes>"
      ]
     },
     "metadata": {},
     "output_type": "display_data"
    }
   ],
   "source": [
    "#Histogram + Kernel Density Estimate shows rating  overall spread\n",
    "\n",
    "plt.figure(figsize=(10,5))\n",
    "sns.histplot(df[\"Aggregate rating\"], bins=20, kde=True, color=\"blue\")  \n",
    "plt.xlabel(\"Aggregate Rating\")\n",
    "plt.ylabel(\"Count\")\n",
    "plt.title(\"Distribution of Aggregate Rating\")\n",
    "plt.show()"
   ]
  },
  {
   "cell_type": "code",
   "execution_count": 27,
   "metadata": {},
   "outputs": [
    {
     "data": {
      "image/png": "[encoded data removed]",
      "text/plain": [
       "<Figure size 800x400 with 1 Axes>"
      ]
     },
     "metadata": {},
     "output_type": "display_data"
    }
   ],
   "source": [
    "#boxplot gives idea of outliners and rating spread \n",
    "\n",
    "plt.figure(figsize=(8,4))\n",
    "sns.boxplot(x=df[\"Aggregate rating\"], color=\"orange\")\n",
    "plt.title(\"Boxplot of Aggregate Rating\")\n",
    "plt.show()\n"
   ]
  },
  {
   "cell_type": "code",
   "execution_count": 28,
   "metadata": {},
   "outputs": [
    {
     "name": "stdout",
     "output_type": "stream",
     "text": [
      "\n",
      "Percentage Distribution of Ratings:\n",
      " Aggregate rating\n",
      "0.0    22.489792\n",
      "3.2     5.465396\n",
      "3.1     5.433986\n",
      "3.4     5.214114\n",
      "3.3     5.057062\n",
      "3.5     5.025652\n",
      "3.0     4.900010\n",
      "3.6     4.795309\n",
      "3.7     4.470736\n",
      "3.8     4.188043\n",
      "2.9     3.989111\n",
      "3.9     3.507486\n",
      "2.8     3.298084\n",
      "4.1     2.868810\n",
      "4.0     2.785049\n",
      "2.7     2.617527\n",
      "4.2     2.313894\n",
      "2.6     1.999791\n",
      "4.3     1.821799\n",
      "4.4     1.507696\n",
      "2.5     1.151712\n",
      "4.5     0.994660\n",
      "2.4     0.910899\n",
      "4.6     0.816668\n",
      "4.9     0.638677\n",
      "2.3     0.492095\n",
      "4.7     0.439745\n",
      "2.2     0.282693\n",
      "4.8     0.261753\n",
      "2.1     0.157052\n",
      "2.0     0.073291\n",
      "1.9     0.020940\n",
      "1.8     0.010470\n",
      "Name: proportion, dtype: float64\n"
     ]
    }
   ],
   "source": [
    "#percentage Distribution of Rating \n",
    "\n",
    "rating_count = df[\"Aggregate rating\"].value_counts(normalize=True) * 100\n",
    "print(\"\\nPercentage Distribution of Ratings:\\n\", rating_count)\n"
   ]
  },
  {
   "cell_type": "code",
   "execution_count": 29,
   "metadata": {},
   "outputs": [
    {
     "name": "stdout",
     "output_type": "stream",
     "text": [
      "\n",
      " No major class imbalance detected.\n"
     ]
    }
   ],
   "source": [
    "# check for class imbalance in the target variable \n",
    "#22.48% is high but not a  critical imbalance .\n",
    "\n",
    "threshold = 50\n",
    "\n",
    "\n",
    "max_class = rating_counts.idxmax()   # return most frequent rating , idxmax() tell the index of most frequent rating\n",
    "max_percent = rating_counts.max() # return the percentage of most frequent rating\n",
    "\n",
    "if max_percent > threshold:\n",
    "    print(f\"\\n Class Imbalance Detected! Rating {max_class} holds {max_percentage:.2f}% of the data.\")\n",
    "else:\n",
    "    print(\"\\n No major class imbalance detected.\")"
   ]
  }
 ],
 "metadata": {
  "kernelspec": {
   "display_name": "Python 3",
   "language": "python",
   "name": "python3"
  },
  "language_info": {
   "codemirror_mode": {
    "name": "ipython",
    "version": 3
   },
   "file_extension": ".py",
   "mimetype": "text/x-python",
   "name": "python",
   "nbconvert_exporter": "python",
   "pygments_lexer": "ipython3",
   "version": "3.13.0"
  }
 },
 "nbformat": 4,
 "nbformat_minor": 2
}
