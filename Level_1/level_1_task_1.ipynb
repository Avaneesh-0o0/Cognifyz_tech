{
 "cells": [
  {
   "cell_type": "code",
   "execution_count": 2,
   "metadata": {},
   "outputs": [],
   "source": [
    "import pandas as pd \n",
    "\n",
    "import matplotlib.pyplot as plt\n",
    "import seaborn as sns"
   ]
  },
  {
   "cell_type": "code",
   "execution_count": null,
   "metadata": {},
   "outputs": [],
   "source": [
    "#Dataset load\n",
    "df=pd.read_csv(\"Dataset .csv\")\n",
    "\n",
    "#Explore the dataset\n",
    "#identify the number of rows and columns.\n",
    "print(\"Number of rows and columns in the dataset:\",df.shape)\n",
    "print (\"\\n\",df.info())"
   ]
  },
  {
   "cell_type": "code",
   "execution_count": null,
   "metadata": {},
   "outputs": [],
   "source": [
    "#Check for missing values\n",
    "print(\"\\nMissing values in the dataset:\",df.isnull().sum())"
   ]
  },
  {
   "cell_type": "code",
   "execution_count": null,
   "metadata": {},
   "outputs": [],
   "source": [
    "#handle missing values\n",
    "\n",
    "df['Cuisines'].fillna(\"Unknown\", inplace=True)\n",
    "\n",
    "print(\"\\nMissing values in the dataset:\",df.isnull().sum())\n"
   ]
  },
  {
   "cell_type": "code",
   "execution_count": null,
   "metadata": {},
   "outputs": [],
   "source": [
    "#data type conversion if necessary\n",
    "\n",
    "print(df.dtypes)"
   ]
  },
  {
   "cell_type": "code",
   "execution_count": null,
   "metadata": {},
   "outputs": [],
   "source": [
    "#converion 1 for yes and 0 for no for \n",
    "# Columns: Has Table booking, Has Online delivery, Is delivering now, Switch to order menu\n",
    "# machine learning model can work easily\n",
    "\n",
    "# Convert Boolean Columns\n",
    "bool_column = ['Has Table booking', 'Has Online delivery', 'Is delivering now', 'Switch to order menu']\n",
    "for col in bool_column:\n",
    "    df[col] = df[col].map({'Yes': 1, 'No': 0}).astype('Int64')\n",
    "\n",
    "# Convert Category Columns\n",
    "# memory optimization\n",
    "category_column = ['City', 'Locality', 'Locality Verbose', 'Cuisines', 'Currency', 'Rating color', 'Rating text','Country Code']\n",
    "for col in category_column:\n",
    "    df[col] = df[col].astype('category')\n",
    "\n",
    "print(\"\\n Data Type Conversion Completed\")\n",
    "print(df.dtypes) \n"
   ]
  },
  {
   "cell_type": "code",
   "execution_count": null,
   "metadata": {},
   "outputs": [],
   "source": [
    "# Analyze the distribution of the target variable (\"Aggregate rating\")\n",
    "\n",
    "\n",
    "#rating value count \n",
    "print(df[\"Aggregate rating\"].value_counts().sort_index())\n"
   ]
  },
  {
   "cell_type": "code",
   "execution_count": null,
   "metadata": {},
   "outputs": [],
   "source": [
    "#Histogram + Kernel Density Estimate shows rating  overall spread\n",
    "\n",
    "plt.figure(figsize=(10,5))\n",
    "sns.histplot(df[\"Aggregate rating\"], bins=20, kde=True, color=\"blue\")  \n",
    "plt.xlabel(\"Aggregate Rating\")\n",
    "plt.ylabel(\"Count\")\n",
    "plt.title(\"Distribution of Aggregate Rating\")\n",
    "plt.show()"
   ]
  },
  {
   "cell_type": "code",
   "execution_count": null,
   "metadata": {},
   "outputs": [],
   "source": [
    "#boxplot gives idea of outliners and rating spread \n",
    "\n",
    "plt.figure(figsize=(8,4))\n",
    "sns.boxplot(x=df[\"Aggregate rating\"], color=\"orange\")\n",
    "plt.title(\"Boxplot of Aggregate Rating\")\n",
    "plt.show()\n"
   ]
  },
  {
   "cell_type": "code",
   "execution_count": null,
   "metadata": {},
   "outputs": [],
   "source": [
    "#percentage Distribution of Rating \n",
    "\n",
    "rating_count = df[\"Aggregate rating\"].value_counts(normalize=True) * 100\n",
    "print(\"\\nPercentage Distribution of Ratings:\\n\", rating_count)\n"
   ]
  },
  {
   "cell_type": "code",
   "execution_count": null,
   "metadata": {},
   "outputs": [],
   "source": [
    "# check for class imbalance in the target variable \n",
    "#22.48% is high but not a  critical imbalance .\n",
    "\n",
    "threshold = 50\n",
    "\n",
    "\n",
    "max_class = rating_count.idxmax()   # return most frequent rating , idxmax() tell the index of most frequent rating\n",
    "max_percent = rating_count.max() # return the percentage of most frequent rating\n",
    "\n",
    "if max_percent > threshold:\n",
    "    print(f\"\\n Class Imbalance Detected! Rating {max_class} holds {max_percentage:.2f}% of the data.\")\n",
    "else:\n",
    "    print(\"\\n No major class imbalance detected.\")"
   ]
  }
 ],
 "metadata": {
  "kernelspec": {
   "display_name": "Python 3",
   "language": "python",
   "name": "python3"
  },
  "language_info": {
   "codemirror_mode": {
    "name": "ipython",
    "version": 3
   },
   "file_extension": ".py",
   "mimetype": "text/x-python",
   "name": "python",
   "nbconvert_exporter": "python",
   "pygments_lexer": "ipython3",
   "version": "3.13.0"
  }
 },
 "nbformat": 4,
 "nbformat_minor": 2
}
