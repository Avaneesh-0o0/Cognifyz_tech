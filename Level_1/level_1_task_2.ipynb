{
 "cells": [
  {
   "cell_type": "code",
   "execution_count": 1,
   "metadata": {},
   "outputs": [],
   "source": [
    "import pandas as pd \n",
    "\n",
    "import matplotlib.pyplot as plt\n",
    "import seaborn as sns\n"
   ]
  },
  {
   "cell_type": "code",
   "execution_count": 2,
   "metadata": {},
   "outputs": [
    {
     "name": "stdout",
     "output_type": "stream",
     "text": [
      "(9551, 21)\n"
     ]
    }
   ],
   "source": [
    "#load dataset \n",
    "df=pd.read_csv(\"Dataset .csv\")\n",
    "\n",
    "#check dataset is loaded or not\n",
    "print(df.shape)"
   ]
  },
  {
   "cell_type": "code",
   "execution_count": null,
   "metadata": {},
   "outputs": [],
   "source": [
    "# Calculate basic statistical measures (mean,\n",
    "# median, standard deviation, etc.) for numerical columns\n",
    "\n",
    "\n",
    "stats = df.describe()  # Mean, Median, Std, Min, Max, etc.\n",
    "print(stats)\n"
   ]
  },
  {
   "cell_type": "code",
   "execution_count": null,
   "metadata": {},
   "outputs": [],
   "source": [
    "# Explore the distribution of categorical\n",
    "# variables like \"Country Code,\" \"City,\" and \"Cuisines.\"\n",
    "\n",
    "\n",
    " # 1. Distribution of Country Code\n",
    " \n",
    " # Count of restaurants per country\n",
    "country_distribution = df['Country Code'].value_counts()\n",
    "\n",
    "# Plot the distribution\n",
    "plt.figure(figsize=(12, 6))\n",
    "sns.countplot(y=df[\"Country Code\"], order=df[\"Country Code\"].value_counts().index, palette=\"coolwarm\")\n",
    "plt.xlabel(\"Count\")\n",
    "plt.ylabel(\"Country Code\")\n",
    "plt.title(\"Distribution of Restaurants by Country Code\")\n",
    "plt.show()\n"
   ]
  },
  {
   "cell_type": "code",
   "execution_count": null,
   "metadata": {},
   "outputs": [],
   "source": [
    "# 2. Distribution of City \n",
    "\n",
    "plt.figure(figsize=(12, 6))\n",
    "top_cities = df[\"City\"].value_counts().nlargest(10) \n",
    "sns.barplot(x=top_cities.values, y=top_cities.index, palette=\"magma\")\n",
    "plt.xlabel(\"Number of Restaurants\")\n",
    "plt.ylabel(\"City\")\n",
    "plt.title(\"Top 10 Cities with Highest Number of Restaurants\")\n",
    "plt.show()"
   ]
  },
  {
   "cell_type": "code",
   "execution_count": null,
   "metadata": {},
   "outputs": [],
   "source": [
    "# 3. Cuisines distribution (Top 10 cuisines)\n",
    "\n",
    "plt.figure(figsize=(12, 6))\n",
    "top_cuisines = df[\"Cuisines\"].value_counts().nlargest(10)  \n",
    "sns.barplot(x=top_cuisines.values, y=top_cuisines.index, palette=\"viridis\")\n",
    "plt.xlabel(\"Number of Restaurants\")\n",
    "plt.ylabel(\"Cuisines\")\n",
    "plt.title(\"Top 10 Cuisines Served\")\n",
    "plt.show()\n"
   ]
  },
  {
   "cell_type": "code",
   "execution_count": null,
   "metadata": {},
   "outputs": [],
   "source": [
    "# Identify the top cuisines and cities with the\n",
    "#highest number of restaurants\n",
    "\n",
    "# i already calcute in distribution , again i will calculate here\n",
    "\n",
    "# Top 10 Cities with highest number of restaurants\n",
    "top_cities = df['City'].value_counts().head(10)\n",
    "print(\"Top 10 Cities with Highest Number of Restaurants:\\n\", top_cities)\n",
    "\n",
    "# Top 10 Cuisines with highest number of restaurants\n",
    "top_cuisines = df['Cuisines'].value_counts().head(10)\n",
    "print(\"\\nTop 10 Cuisines with Highest Number of Restaurants:\\n\", top_cuisines)\n"
   ]
  }
 ],
 "metadata": {
  "kernelspec": {
   "display_name": "Python 3",
   "language": "python",
   "name": "python3"
  },
  "language_info": {
   "codemirror_mode": {
    "name": "ipython",
    "version": 3
   },
   "file_extension": ".py",
   "mimetype": "text/x-python",
   "name": "python",
   "nbconvert_exporter": "python",
   "pygments_lexer": "ipython3",
   "version": "3.13.0"
  }
 },
 "nbformat": 4,
 "nbformat_minor": 2
}
