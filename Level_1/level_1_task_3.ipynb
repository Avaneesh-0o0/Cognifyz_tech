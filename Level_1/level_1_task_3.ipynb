{
 "cells": [
  {
   "cell_type": "code",
   "execution_count": 1,
   "metadata": {},
   "outputs": [],
   "source": [
    "import plotly.express as px\n",
    "import matplotlib.pyplot as plt\n",
    "import seaborn as sns\n",
    "import pandas as pd\n"
   ]
  },
  {
   "cell_type": "code",
   "execution_count": 2,
   "metadata": {},
   "outputs": [
    {
     "name": "stdout",
     "output_type": "stream",
     "text": [
      "(9551, 21)\n"
     ]
    }
   ],
   "source": [
    "# Load the data\n",
    "data = pd.read_csv('Dataset .csv')\n",
    "\n",
    "print(data.shape) "
   ]
  },
  {
   "cell_type": "code",
   "execution_count": null,
   "metadata": {},
   "outputs": [],
   "source": [
    "\n",
    "# Visualize the locations of restaurants on a\n",
    "# map using latitude and longitude information.\n",
    "# Initialize a map centered around the average latitude and longitude\n",
    "\n",
    "\n",
    "fig = px.scatter_mapbox(data, \n",
    "                        lat=\"Latitude\", \n",
    "                        lon=\"Longitude\", \n",
    "                        hover_name=\"Restaurant Name\",\n",
    "                        hover_data=[\"Aggregate rating\"],\n",
    "                        color=\"Aggregate rating\",\n",
    "                        size_max=10, \n",
    "                        zoom=5, \n",
    "                        mapbox_style=\"open-street-map\")\n",
    "\n",
    "fig.show()\n",
    "\n"
   ]
  },
  {
   "cell_type": "code",
   "execution_count": null,
   "metadata": {},
   "outputs": [],
   "source": [
    "# Analyze the distribution of restaurants\n",
    "#across different cities or countries.\n",
    "\n",
    "# Count restaurants in each country\n",
    "country_counts = data[\"Country Code\"].value_counts().head(10)  # Top 10 countries\n",
    "\n",
    "# Plot\n",
    "plt.figure(figsize=(12, 6))\n",
    "sns.barplot(x=country_counts.index, y=country_counts.values, palette=\"viridis\")\n",
    "plt.xlabel(\"Country Code\")\n",
    "plt.ylabel(\"Number of Restaurants\")\n",
    "plt.title(\"Top 10 Countries with the Highest Number of Restaurants\")\n",
    "plt.show()"
   ]
  },
  {
   "cell_type": "code",
   "execution_count": null,
   "metadata": {},
   "outputs": [],
   "source": [
    "# Count restaurants in each city\n",
    "city_counts = data[\"City\"].value_counts().head(10)  # Top 10 cities\n",
    "\n",
    "# Plot\n",
    "plt.figure(figsize=(14, 6))\n",
    "sns.barplot(x=city_counts.index, y=city_counts.values, palette=\"coolwarm\")\n",
    "plt.xlabel(\"City\")\n",
    "plt.ylabel(\"Number of Restaurants\")\n",
    "plt.title(\"Top 10 Cities with the Highest Number of Restaurants\")\n",
    "plt.xticks(rotation=45)\n",
    "plt.show()\n"
   ]
  },
  {
   "cell_type": "code",
   "execution_count": null,
   "metadata": {},
   "outputs": [],
   "source": [
    "# Determine if there is any correlation\n",
    "#between the restaurant's location and its rating.\n",
    "\n",
    "\n",
    "\n",
    "# Scatter plot for Latitude vs Rating\n",
    "plt.figure(figsize=(10, 5))\n",
    "sns.scatterplot(x=data[\"Latitude\"], y=data[\"Aggregate rating\"], alpha=0.5, color='blue')\n",
    "plt.xlabel(\"Latitude\")\n",
    "plt.ylabel(\"Aggregate Rating\")\n",
    "plt.title(\"Latitude vs. Aggregate Rating\")\n",
    "plt.show()\n",
    "\n",
    "\n"
   ]
  },
  {
   "cell_type": "code",
   "execution_count": null,
   "metadata": {},
   "outputs": [],
   "source": [
    "# Scatter plot for Longitude vs Rating\n",
    "plt.figure(figsize=(10, 5))\n",
    "sns.scatterplot(x=data[\"Longitude\"], y=data[\"Aggregate rating\"], alpha=0.5, color='red')\n",
    "plt.xlabel(\"Longitude\")\n",
    "plt.ylabel(\"Aggregate Rating\")\n",
    "plt.title(\"Longitude vs. Aggregate Rating\")\n",
    "plt.show()"
   ]
  },
  {
   "cell_type": "code",
   "execution_count": null,
   "metadata": {},
   "outputs": [],
   "source": [
    "# Correlation Matrix (Numerical Data)\n",
    "\n",
    "corr_matrix = data[[\"Latitude\", \"Longitude\", \"Aggregate rating\"]].corr()\n",
    "\n",
    "# Display correlation matrix\n",
    "print(\"\\nCorrelation Matrix:\\n\", corr_matrix)"
   ]
  },
  {
   "cell_type": "code",
   "execution_count": null,
   "metadata": {},
   "outputs": [],
   "source": [
    "# City-wise Rating Analysis \n",
    "\n",
    "city_ratings = data.groupby(\"City\")[\"Aggregate rating\"].mean().sort_values(ascending=False).head(10)\n",
    "\n",
    "# Plot\n",
    "plt.figure(figsize=(12, 6))\n",
    "sns.barplot(x=city_ratings.index, y=city_ratings.values, palette=\"magma\")\n",
    "plt.xlabel(\"City\")\n",
    "plt.ylabel(\"Average Aggregate Rating\")\n",
    "plt.title(\"Top 10 Cities with Highest Average Ratings\")\n",
    "plt.xticks(rotation=45)\n",
    "plt.show()\n"
   ]
  }
 ],
 "metadata": {
  "kernelspec": {
   "display_name": "Python 3",
   "language": "python",
   "name": "python3"
  },
  "language_info": {
   "codemirror_mode": {
    "name": "ipython",
    "version": 3
   },
   "file_extension": ".py",
   "mimetype": "text/x-python",
   "name": "python",
   "nbconvert_exporter": "python",
   "pygments_lexer": "ipython3",
   "version": "3.13.0"
  }
 },
 "nbformat": 4,
 "nbformat_minor": 2
}
